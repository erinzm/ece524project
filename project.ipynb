{
 "cells": [
  {
   "cell_type": "markdown",
   "metadata": {},
   "source": [
    "### CS/ECE/ISyE 524 &mdash; Introduction to Optimization &mdash; Spring 2018 ###\n",
    "\n",
    "# Optimal Skill-Based Worker Assignment\n",
    "\n",
    "#### Noah Rhodes (nrhodes@wisc.edu), Alliot Nagle (acnagle@wisc.edu), and Liam Marshall (limarshall@wisc.edu)\n",
    "\n",
    "*****\n",
    "\n",
    "### Table of Contents\n",
    "\n",
    "1. [Introduction](#1.-Introduction)\n",
    "1. [Mathematical Model](#2.-Mathematical-model)\n",
    "1. [Solution](#3.-Solution)\n",
    "1. [Results and Discussion](#4.-Results-and-discussion)\n",
    "  1. [Optional Subsection](#4.A.-Feel-free-to-add-subsections)\n",
    "1. [Conclusion](#5.-Conclusion)"
   ]
  },
  {
   "cell_type": "markdown",
   "metadata": {},
   "source": [
    "## 1. Introduction ##\n",
    "\n",
    "An important aspect of project management is assigning employees to tasks, and doing so in an efficient manner.\n",
    "Several aspects can be considered such as decreasing worker boredom _[1]_, maximizing productivity, or increasing robustness to workers not showing up.\n",
    "\n",
    "Our project is focusing on minimizing the time to complete a project, given a set of workers and tasks.\n",
    "Our unique twist is to account for how repeating a task can lead to decreasing time required to complete it, which we call the worker’s _learning model_.\n",
    "\n",
    "The goal of the project is to find an optimal schedule for assigning workers with specific set of skills to a set of tasks.\n",
    "Each task has a defined amount of work that needs to be done in order to complete a task, and the amount of time a worker spends on completing a task depends on his or her skill set.\n",
    "In addition, when a worker completes a task, they become more skilled at performing that task, completing it more quickly in the future.\n",
    "An optimal schedule could minimize the length of a project timeline by assigning workers to tasks that match the skills they have, or it might assign a low skill worker to a job several times to in order for them to learn the skill and be highly productive in the long run.  \n",
    "\n",
    "The inspiration for this project comes from work with Engineers Without Borders.\n",
    "As designs for a bridge, a microgrid, or a water system are finalized, a construction schedule must be planned.\n",
    "Every household in the community contributes a person to the construction, which means access to a large amount of labor; however, these workers are not typically highly skilled in the type of required work.\n",
    "However, at low skill levels, repeated work can lead to a rapidly increasing productivity **[cite?]**.\n",
    "A tool to better estimate how worker productivity may change over the course of a project would dramatically help in the creation of feasible project timelines. \n",
    "\n",
    "In large projects, the number of tasks often significantly outnumbers the workers and we must decide how to assign our workers.\n",
    "Do we have workers that specialize in a task and complete it quickly, or instead have workers who can generalize and complete a variety of tasks more slowly.  How do we assign our workers to a project timeline to optimize the completion time?\n",
    "\n",
    "We develop a model to find an optimal schedule for worker assignment based on the amount of work each task requires and the skill level of each worker.\n",
    "This model can be useful for a wide array of applications.\n",
    "For example, developing a construction timeline and determining what combination of worker assignments will allow a project to be completed quickly.\n",
    "An additional use may be to decide if it will be more productive to have a worker learn on the job or instead give a worker training where they stop producing work but may return with a higher skill level. \n",
    "\n",
    "We data for our model, using very broad assumptions/estimates.\n",
    "Our goal is to prove that that our model can be viable for a variety of assignment problems, rather focus on a specific worker dataset.\n",
    "We will create worker skill levels and learning speeds from gaussian distributions **[update?]** restricted to a sensible range of values.\n",
    "\n",
    "Depending on the variety of types of tasks in a project, the quantity of those tasks, the number of workers, and any initial skills the workers have, we can expect a different optimal assignment of tasks to workers.\n",
    "This is leads to a question of whether workers should generalize or specialize in a skill, or how short-term optimal worker assignment compares to long-term optimal assignment.\n",
    "Our project hopes to provide an answer to these questions and their dependency on initial conditions. \n",
    "\n",
    "----\n",
    "\n",
    "[1]: Bhadury, J., and Z. Radovilsky. \"Job rotation using the multi-period assignment model.\" _International Journal of Production Research_ 44.20 (2006): 4431-4444."
   ]
  },
  {
   "cell_type": "markdown",
   "metadata": {},
   "source": [
    "## 2. Mathematical model ##\n",
    "\n",
    "A discussion of the modeling assumptions made in the problem (e.g. is it from physics? economics? something else?). Explain the decision variables, the constraints, and the objective function. Finally, show the optimization problem written in standard form. Discuss the model type (LP, QP, MIP, etc.). Equations should be formatted in $\\LaTeX$ within the IJulia notebook. For this section you may **assume the reader is familiar with the material covered in class**.\n",
    "\n",
    "Here is an example of an equation:\n",
    "\n",
    "$$\n",
    "\\begin{bmatrix}\n",
    "  1 & 2 \\\\\n",
    "  3 & 4\n",
    "\\end{bmatrix}\n",
    "\\begin{bmatrix} x \\\\ y \\end{bmatrix} =\n",
    "\\begin{bmatrix} 5 \\\\ 6 \\end{bmatrix}\n",
    "$$\n",
    "\n",
    "And here is an example of an optimization problem in standard form:\n",
    "\n",
    "$$\n",
    "\\begin{aligned}\n",
    "\\underset{x \\in \\mathbb{R^n}}{\\text{maximize}}\\qquad& f_0(x) \\\\\n",
    "\\text{subject to:}\\qquad& f_i(x) \\le 0 && i=1,\\dots,m\\\\\n",
    "& h_j(x) = 0 && j=1,\\dots,r\n",
    "\\end{aligned}\n",
    "$$\n",
    "\n",
    "For some quick tips on using $\\LaTeX$, see [this cheat sheet](http://users.dickinson.edu/~richesod/latex/latexcheatsheet.pdf)."
   ]
  },
  {
   "cell_type": "markdown",
   "metadata": {},
   "source": [
    "## 3. Solution ##\n",
    "\n",
    "Here, you should code up your model in Julia + JuMP and solve it. Your code should be clean, easy to read, well annotated and commented, and it should compile! You are not allowed to use other programming languages or DCP packages such as `convex.jl`. **I will be running your code**. I suggest having multiple code blocks separated by text blocks that explain the various parts of your solution. You may also solve several versions of your problem with different models/assumptions.\n",
    "\n",
    "It's fine to call external packages such as `Gurobi`, but try to minimize the use of exotic libraries."
   ]
  },
  {
   "cell_type": "code",
   "execution_count": 1,
   "metadata": {},
   "outputs": [
    {
     "name": "stdout",
     "output_type": "stream",
     "text": [
      "The total number of horses is: 10.0\n",
      "The total number of donkeys is: 0.0\n",
      "The total number of goats is: 0.0\n"
     ]
    }
   ],
   "source": [
    "# this is a code block\n",
    "using JuMP, Clp\n",
    "m = Model(solver = ClpSolver())\n",
    "\n",
    "things = [:horses, :donkeys, :goats]  # these are the things \n",
    "@variable(m, x[things] >= 0)          # the quantities of each of the things (can't be negative)\n",
    "@constraint(m, sum(x) <= 10)          # we can't have any more than 10 things total\n",
    "@objective(m, Max, x[:horses])        # we want to maximize the number of horses\n",
    "solve(m)\n",
    "\n",
    "for i in things\n",
    "    println(\"The total number of \", i, \" is: \", getvalue(x[i]))     # print result\n",
    "end"
   ]
  },
  {
   "cell_type": "markdown",
   "metadata": {},
   "source": [
    "Remember to make sure your code compiles! I will be running your code!"
   ]
  },
  {
   "cell_type": "markdown",
   "metadata": {},
   "source": [
    "## 4. Results and discussion ##\n",
    "\n",
    "Here, you display and discuss the results. Show figures, plots, images, trade-off curves, or whatever else you can think of to best illustrate your results. The discussion should explain what the results mean, and how to interpret them. You should also explain the limitations of your approach/model and how sensitive your results are to the assumptions you made.\n",
    "\n",
    "Use plots (see `PyPlot` examples from class), or you can display results in a table like this:\n",
    "\n",
    "| Tables        | Are           | Cool  |\n",
    "| ------------- |:-------------:| -----:|\n",
    "| col 3 is      | right-aligned |\\$1600 |\n",
    "| col 2 is      | centered      |  \\$12 |\n",
    "| zebra stripes | are neat      |   \\$1 |\n",
    "\n",
    "### 4.A. Feel free to add subsections\n",
    "\n",
    "#### 4.A.a. or subsubsections"
   ]
  },
  {
   "cell_type": "markdown",
   "metadata": {},
   "source": [
    "## 5. Conclusion ##\n",
    "\n",
    "Summarize your findings and your results, and talk about at least one possible future direction; something that might be interesting to pursue as a follow-up to your project."
   ]
  },
  {
   "cell_type": "code",
   "execution_count": null,
   "metadata": {
    "collapsed": true
   },
   "outputs": [],
   "source": []
  }
 ],
 "metadata": {
  "kernelspec": {
   "display_name": "Julia 0.6.2",
   "language": "julia",
   "name": "julia-0.6"
  },
  "language_info": {
   "file_extension": ".jl",
   "mimetype": "application/julia",
   "name": "julia",
   "version": "0.6.2"
  }
 },
 "nbformat": 4,
 "nbformat_minor": 2
}

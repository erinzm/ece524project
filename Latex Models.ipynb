{
 "cells": [
  {
   "cell_type": "markdown",
   "metadata": {},
   "source": [
    "### Problem in word form\n",
    "\n",
    "$\\begin{equation*}\n",
    "\\begin{aligned}\n",
    "& \\underset{\\text{Worker Assingment}}{\\text{Minimize}}\n",
    "& & \\textrm{Time to complete all tasks} \\\\\n",
    "& \\text{subject to:}\n",
    "& & \\text{Each task must be completed}  \\\\ \n",
    "& & & \\text{Each worker is assigned one task at a time} \\\\\n",
    "& & & \\text{Worker productivity changes based on past assingments}\\\\\n",
    "\\end{aligned}\n",
    "\\end{equation*}\n",
    "$"
   ]
  },
  {
   "cell_type": "markdown",
   "metadata": {},
   "source": [
    "### Model 1 in latex\n",
    "\n",
    "$\\begin{equation*}\n",
    "\\begin{aligned}\n",
    "& \\underset{x_{ijk} \\ \\lambda}{\\text{minimize}}\n",
    "& & \\lambda \\\\\n",
    "& \\text{subject to:}\n",
    "& & \\sum\\limits_{i=1}^T x_{ijk} \\le 1 \n",
    "& \\forall j, k \\\\ \n",
    "& & & \\sum\\limits_{j=1}^W \\sum\\limits_{k=1}^M x_{ijk} == 1\n",
    "& \\forall i \\\\\n",
    "& & & \\sum\\limits_{j=1}^W \\sum\\limits_{k=1}^M x_{ijk}*k \\leq \\lambda\n",
    "& \\forall i \\\\\n",
    "& & & x_{ijk} \\in \\{0,1\\} \\\\\n",
    "\\\\\n",
    "& \\text{Where}\n",
    "&  W \\ & \\text{Number of Workers}\\\\\n",
    "&  & T \\ & \\text{Number of Tasks}\\\\\n",
    "&  & M \\ & \\text{Upper bound on completion time}\n",
    "\\end{aligned}\n",
    "\\end{equation*}\n",
    "$\n",
    "\n"
   ]
  },
  {
   "cell_type": "markdown",
   "metadata": {},
   "source": [
    "### Model 2 in latex\n",
    "\n",
    "$\\begin{equation*}\n",
    "\\begin{aligned}\n",
    "& \\underset{x_{ijkt} \\ z_{ijkt} \\ \\lambda}{\\text{Minimize}}\n",
    "& & \\lambda \\\\\n",
    "& \\text{subject to:}\n",
    "& & \\sum\\limits_{k=1}^{w}  \\sum\\limits_{t=1}^T z_{ijkt} \\le 1 & \\forall i,j\\\\ \n",
    "& & & \\sum\\limits_{i=1}^n \\sum\\limits_{j=1}^v x_{ijkt} = 1  & \\forall k,t\\\\\n",
    "& & & \\sum\\limits_{i=1}^n \\sum\\limits_{k=1}^w \\sum\\limits_{t=1}^T x_{ijkt} = N_j & \\forall j\\\\\n",
    "& & & z_{ijkl} >= x_{ijkt} & \\text{for } l=t,...,W_{kj}\\\\\n",
    "& & & \\left[ \\sum\\limits_{t=1}^T x_{ijkt}*(t+W_{kj}) \\right] \\le \\lambda & \\forall i,j,k\n",
    "\\end{aligned}\n",
    "\\end{equation*}\n",
    "$\n",
    "\n",
    "$\\begin{equation*}\n",
    "\\begin{aligned}\n",
    "& \\text{Where}\n",
    "&  z_{ijkt} & \\in [0,1] \\ \\text{Is true if worker $i$ is working on the $k$th task of type $j$ at time $t$}\\\\ \n",
    "& & x_{ijkt} & \\in [0,1] \\ \\text{Is true if  worker $i$ is starts the $k$th task of type $j$ at time $t$}\\\\ \n",
    "&  & W  & \\text{Array of $n$ workers by $v$ task types that contains the speed which each worker can complete each task type}\\\\\n",
    "&  & N  & \\text{Array of $v$ task types that contains the quota of each task type} \\\\\n",
    "& & T  & \\text{ Upper bound on the number of required discrete timesteps} \\\\\n",
    "\\end{aligned}\n",
    "\\end{equation*}\n",
    "$\n",
    "\n"
   ]
  },
  {
   "cell_type": "markdown",
   "metadata": {},
   "source": [
    "### Model 3 in latex - Binary Task \n",
    "\n",
    "\n",
    "$\\begin{equation*}\n",
    "\\begin{aligned}\n",
    "& \\underset{x \\ \\lambda} {\\text{Minimize}}\n",
    "& & \\lambda \\\\\n",
    "& \\text{subject to:}\n",
    "\\end{aligned}\n",
    "\\end{equation*}\n",
    "$\n",
    "\n",
    "$\\begin{equation*}\n",
    "\\begin{aligned}\n",
    "& \\text{Where}\n",
    "& & T  & \\text{ Upper bound on the number of required discrete timesteps} \\\\\n",
    "\\end{aligned}\n",
    "\\end{equation*}\n",
    "$\n",
    "\n"
   ]
  }
 ],
 "metadata": {
  "kernelspec": {
   "display_name": "Julia 0.6.2",
   "language": "julia",
   "name": "julia-0.6"
  },
  "language_info": {
   "file_extension": ".jl",
   "mimetype": "application/julia",
   "name": "julia",
   "version": "0.6.2"
  }
 },
 "nbformat": 4,
 "nbformat_minor": 2
}

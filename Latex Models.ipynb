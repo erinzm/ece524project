{
 "cells": [
  {
   "cell_type": "markdown",
   "metadata": {},
   "source": [
    "# Problem: word form\n",
    "\n",
    "$\n",
    "\\begin{align*}\n",
    "\\min_{\\text{worker assignment}}\\quad & \\textrm{Time to complete all tasks} \\\\\n",
    "\\text{subject to:}\\quad & \\text{Each task must be completed;}  \\\\ \n",
    "                        & \\text{Each worker is assigned one task at a time;} \\\\\n",
    "                        & \\text{Worker productivity changes based on past assignments.} \\\\\n",
    "\\end{align*}\n",
    "$"
   ]
  },
  {
   "cell_type": "markdown",
   "metadata": {},
   "source": [
    "# Model 1 - LP\n",
    "\n",
    "$\n",
    "\\begin{align*}\n",
    "\\min_{x_{ijt},\\,\\lambda}\\quad & \\lambda \\\\\n",
    "\\text{s.t.}\\quad & \\sum\\limits_{i=1}^N x_{ijt} \\le 1 & \\forall j \\in \\{1, \\dots, W\\}, \\, t  \\in \\{1, \\dots, T\\} & & \\text{(1)}\\\\ \n",
    "                 & \\sum\\limits_{j=1}^W \\sum\\limits_{t=1}^T x_{ijt} == 1 & \\forall i \\in \\{1, \\dots, N\\} & & \\text{(2)} \\\\\n",
    "                 & \\sum\\limits_{j=1}^W \\sum\\limits_{t=1}^T x_{ijt}*t \\leq \\lambda & \\forall i \\in \\{1, \\dots, N\\} & & \\text{(3)} \\\\\n",
    "\\end{align*}\n",
    "$\n",
    "\n",
    "Where\n",
    "* $x_{ijt} \\in \\{0,1\\}$ is 1 if worker $i$ is working on the $j$th task at time $t$\n",
    "* $\\lambda$ is the time the last task is completed\n",
    "* $W$ is the number of workers\n",
    "* $N$ is the number of tasks\n",
    "* $T$ is an upper bound on the task completion time\n",
    "\n",
    "Notes on the constraints:\n",
    "1. Each worker is limited to one task at a time\n",
    "2. Each task is worked on exactly once\n",
    "3. $\\lambda$ is greater than or equal to largest completion time of any task"
   ]
  },
  {
   "cell_type": "markdown",
   "metadata": {},
   "source": [
    "# Model 2 - QAP\n",
    "\n",
    "$\n",
    "\\begin{align*}\n",
    "\\min_{x_{ijkt},\\,z_{ijkt},\\,\\lambda}\\quad & \\lambda \\\\\n",
    "\\text{s.t.}\\quad & \\sum\\limits_{k=1}^{W}  \\sum\\limits_{t=1}^T z_{ijkt} \\le 1 & \\forall i \\in \\{1, \\dots, N\\}, \\,j \\in \\{1, \\dots, v\\} & & \\text(1) \\\\\n",
    "                 & \\sum\\limits_{i=1}^N \\sum\\limits_{j=1}^V x_{ijkt} = 1  & \\forall k \\in \\{1, \\dots , W\\} , \\,t \\in \\{1, \\dots, T\\} & & \\text{(2)}\\\\\n",
    "                 & \\sum\\limits_{i=1}^N \\sum\\limits_{k=1}^W \\sum\\limits_{t=1}^T x_{ijkt} = n_j & \\forall j \\in \\{1, \\dots, V\\} & & \\text(3) \\\\\n",
    "                 & \\sum\\limits_{t=1}^T x_{ijkt}*(t+w_{kj}) \\le \\lambda & \\forall i \\in \\{1, \\dots, N\\}, \\,j \\in \\{1, \\dots, V\\}, \\,k \\in \\{1, \\dots , W\\} & & \\text{(4)}\\\\\n",
    "                 & z_{ijkl} >= x_{ijkt} & \\forall i \\in \\{1, \\dots, N\\}, \\,j \\in \\{1, \\dots, V\\}, \\,k \\in \\{1, \\dots , W\\}, \\,t \\in \\{1, \\dots, T\\}, \\, l \\in \\{t, \\dots ,w_{kj}\\} & & \\text{(5)}\\\\\n",
    "\\end{align*}\n",
    "$\n",
    "\n",
    "Where\n",
    "* $z_{ijkt} \\in \\{0, 1\\}$ is $1$ if worker $i$ is working on the $k$th task of type $j$ at time $t$.\n",
    "* $x_{ijkt} \\in \\{0, 1\\}$ is $1$ if worker $i$ starts the $k$th task of type $j$ at time $t$.\n",
    "* $\\lambda$ is the time the last task is completed\n",
    "* $w_{ij}$ is the speed with which worker $i$ completes task $j$.\n",
    "* $n_i$ is the work quota for task type $i$.\n",
    "* $W$ is an number of workers\n",
    "* $N$ is the maximum quota in $n$\n",
    "* $V$ is the number of task types\n",
    "* $T$ is an upper bound on the number of timesteps considered in the model.\n",
    "\n",
    "Notes on the constraints:\n",
    "1. Each worker is limited to one task at a time\n",
    "2. Each task is started exactly once\n",
    "3. We must meet work quotas for each task type\n",
    "4. $\\lambda$ is greater than or equal to largest completion time of any task\n",
    "5. Enforces the relation between starting a task and whether a worker is currently working on the task"
   ]
  },
  {
   "cell_type": "markdown",
   "metadata": {},
   "source": [
    "# Model 3 - Binary Task Bundles\n",
    "\n",
    "$\n",
    "\\begin{align*}\n",
    "\\min_{x \\in \\{0, 1\\}^{W\\times J\\times T},\\,\\lambda \\ge 0}\\quad & \\lambda \\\\\n",
    "\\text{s.t.}\\quad & \\sum_{t=1}^{T} \\sum_{i=1}^{W} t\\,x_{i,j,t} \\ge q_j & \\forall j \\in \\{1, \\dots, J\\} & & \\text{(1)}\\\\\n",
    "                 & \\sum_{j=1}^{J} \\sum_{t=1}^{T} B(j, t)\\,x_{i,j,t} \\le \\lambda & \\forall i \\in \\{1, \\dots, W\\} & & \\text{(2)}\\\\\n",
    "                 & \\text{SOS1}\\,\\{ x_{i,j,t}\\;\\forall t \\in {1, \\dots, T} \\} & \\forall i \\in \\{1, \\dots, W\\},\\,j \\in \\{1, \\dots, J\\} & & \\text{(3)}\\\\\n",
    "\\end{align*}\n",
    "$\n",
    "\n",
    "where\n",
    "* $x_{i,j,t} \\in \\{0, 1\\}$ is $1$ if worker $i$ is working on task $j$ at time $t$.\n",
    "* $\\lambda$ is the time the slowest worker takes to complete all their tasks.\n",
    "* $W$ is the number of workers.\n",
    "* $J$ is the number of tasks.\n",
    "* $T$ is the maximum number of units of work per a (worker, job) combination considered in the problem.\n",
    "* $q_j$ is the work unit quota for task $j$.\n",
    "* $B(j, t)$ is the time required to perform job $j$ $t$ times; this might scale non-linearly with $t$ as a worker learns that job.\n",
    "\n",
    "Notes on the constraints:\n",
    "1. We must meet work quotas $q$.\n",
    "2. Lower-bound $\\lambda$ by every worker's completion time; $\\lambda$ is the time for the slowest worker to complete all tasks.\n",
    "3. Only one binary time may be active per job + worker combination."
   ]
  },
  {
   "cell_type": "code",
   "execution_count": null,
   "metadata": {},
   "outputs": [],
   "source": []
  }
 ],
 "metadata": {
  "kernelspec": {
   "display_name": "Julia 0.6.2",
   "language": "julia",
   "name": "julia-0.6"
  },
  "language_info": {
   "file_extension": ".jl",
   "mimetype": "application/julia",
   "name": "julia",
   "version": "0.6.2"
  }
 },
 "nbformat": 4,
 "nbformat_minor": 2
}

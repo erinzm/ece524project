{
 "cells": [
  {
   "cell_type": "markdown",
   "metadata": {},
   "source": [
    "### Problem in word form\n",
    "\n",
    "$\\begin{equation*}\n",
    "\\begin{aligned}\n",
    "& \\underset{\\text{Worker Assingment}}{minimize}\n",
    "& & \\textrm{Time to complete all tasks} \\\\\n",
    "& subject \\ to:\n",
    "& & \\text{Each task must be completed}  \\\\ \n",
    "& & & \\text{Each worker is assigned one task at a time} \\\\\n",
    "\\end{aligned}\n",
    "\\end{equation*}\n",
    "$"
   ]
  },
  {
   "cell_type": "markdown",
   "metadata": {},
   "source": [
    "### Model 1 in latex\n",
    "\n",
    "$\\begin{equation*}\n",
    "\\begin{aligned}\n",
    "& \\underset{x_{ijk} \\ \\lambda}{\\text{minimize}}\n",
    "& & \\lambda \\\\\n",
    "& \\text{subject to:}\n",
    "& & \\sum\\limits_{i=1}^T x_{ijk} \\le 1 \n",
    "& \\forall j, k \\\\ \n",
    "& & & \\sum\\limits_{j=1}^W \\sum\\limits_{k=1}^M x_{ijk} == 1\n",
    "& \\forall i \\\\\n",
    "& & & \\sum\\limits_{j=1}^W \\sum\\limits_{k=1}^M x_{ijk}*k \\leq \\lambda\n",
    "& \\forall i \\\\\n",
    "& & & x_{ijk} \\in \\{0,1\\} \\\\\n",
    "\\\\\n",
    "& \\text{Where}\n",
    "&  W \\ & \\text{Number of Workers}\\\\\n",
    "&  & T \\ & \\text{Number of Tasks}\\\\\n",
    "&  & M \\ & \\text{Upper bound on completion time}\n",
    "\\end{aligned}\n",
    "\\end{equation*}\n",
    "$\n",
    "\n"
   ]
  },
  {
   "cell_type": "markdown",
   "metadata": {},
   "source": [
    "### Model 2 in latex\n",
    "\n",
    "$\\begin{equation*}\n",
    "\\begin{aligned}\n",
    "& \\underset{x_{ijk} \\ z_{ijk} \\ \\lambda}{\\text{minimize}}\n",
    "& & \\lambda \\\\\n",
    "& \\text{subject to:}\n",
    "& & \\sum\\limits_{i=1}^T x_{ijk} \\le 1 \n",
    "& \\forall j, k \\\\ \n",
    "& & & \\sum\\limits_{j=1}^W \\sum\\limits_{k=1}^M x_{ijk} == 1\n",
    "& \\forall i \\\\\n",
    "& & & \\sum\\limits_{j=1}^W \\sum\\limits_{k=1}^M x_{ijk}*k \\leq \\lambda\n",
    "& \\forall i \\\\\n",
    "& & & x_{ijk} \\in \\{0,1\\}\n",
    "\\end{aligned}\n",
    "\\end{equation*}\n",
    "$"
   ]
  }
 ],
 "metadata": {
  "kernelspec": {
   "display_name": "Julia 0.6.2",
   "language": "julia",
   "name": "julia-0.6"
  },
  "language_info": {
   "file_extension": ".jl",
   "mimetype": "application/julia",
   "name": "julia",
   "version": "0.6.2"
  }
 },
 "nbformat": 4,
 "nbformat_minor": 2
}

{
 "cells": [
  {
   "cell_type": "markdown",
   "metadata": {},
   "source": [
    "# Problem: word form\n",
    "\n",
    "$\n",
    "\\begin{align*}\n",
    "\\min_{\\text{worker assignment}}\\quad & \\textrm{Time to complete all tasks} \\\\\n",
    "\\text{subject to:}\\quad & \\text{Each task must be completed;}  \\\\ \n",
    "                        & \\text{Each worker is assigned one task at a time;} \\\\\n",
    "                        & \\text{Worker productivity changes based on past assignments.} \\\\\n",
    "\\end{align*}\n",
    "$"
   ]
  },
  {
   "cell_type": "markdown",
   "metadata": {},
   "source": [
    "# Model 1 - LP\n",
    "\n",
    "$\n",
    "\\begin{align*}\n",
    "\\min_{x_{ijk},\\,\\lambda}\\quad & \\lambda \\\\\n",
    "\\text{s.t.}\\quad & \\sum\\limits_{i=1}^T x_{ijk} \\le 1 & \\forall j, k \\\\ \n",
    "                 & \\sum\\limits_{j=1}^W \\sum\\limits_{k=1}^M x_{ijk} == 1 & \\forall i \\\\\n",
    "                 & \\sum\\limits_{j=1}^W \\sum\\limits_{k=1}^M x_{ijk}*k \\leq \\lambda & \\forall i \\\\\n",
    "                 & x_{ijk} \\in \\{0,1\\} \\\\\n",
    "\\end{align*}\n",
    "$\n",
    "\n",
    "where\n",
    "* $W$ is the number of workers\n",
    "* $T$ is the number of tasks\n",
    "* $M$ is an upper bound on the times considered in the model"
   ]
  },
  {
   "cell_type": "markdown",
   "metadata": {},
   "source": [
    "# Model 2 - QAP\n",
    "\n",
    "$\n",
    "\\begin{align*}\n",
    "\\min_{x_{ijkt},\\,z_{ijkt},\\,\\lambda}\\quad & \\lambda \\\\\n",
    "\\text{s.t.}\\quad & \\sum\\limits_{k=1}^{w}  \\sum\\limits_{t=1}^T z_{ijkt} \\le 1 & \\forall i,j\\\\ \n",
    "                 & \\sum\\limits_{i=1}^n \\sum\\limits_{j=1}^v x_{ijkt} = 1  & \\forall k,t\\\\\n",
    "                 & \\sum\\limits_{i=1}^n \\sum\\limits_{k=1}^w \\sum\\limits_{t=1}^T x_{ijkt} = N_j & \\forall j\\\\\n",
    "                 & z_{ijkl} >= x_{ijkt} & \\text{for } l=t,...,W_{kj}\\\\\n",
    "                 & \\left[ \\sum\\limits_{t=1}^T x_{ijkt}*(t+W_{kj}) \\right] \\le \\lambda & \\forall i,j,k\n",
    "\\end{align*}\n",
    "$\n",
    "\n",
    "where\n",
    "* $z_{ijkt} \\in \\{0, 1\\}$ is $1$ if worker $i$ is working on the $k$th task of type $j$ at time $t$.\n",
    "* $x_{ijkt} \\in \\{0, 1\\}$ is $1$ if worker $i$ starts the $k$th task of type $j$ at time $t$.\n",
    "* $W_{ij}$ is the speed with which worker $i$ completes task $j$.\n",
    "* $N_i$ is the work quota for task type $i$.\n",
    "* $T$ is an upper bound on the number of timesteps considered in the model."
   ]
  },
  {
   "cell_type": "markdown",
   "metadata": {},
   "source": [
    "# Model 3 - Binary Task Bundles\n",
    "\n",
    "$\n",
    "\\begin{align*}\n",
    "\\min_{x \\in \\{0, 1\\}^{W\\times J\\times T},\\,\\lambda \\ge 0}\\quad & \\lambda \\\\\n",
    "\\text{s.t.}\\quad & \\sum_{t=1}^{T} \\sum_{i=1}^{W} t\\,x_{i,j,t} \\ge q_j & \\forall j \\in \\{1, \\dots, J\\} & & \\text{(1)}\\\\\n",
    "                 & \\sum_{j=1}^{J} \\sum_{t=1}^{T} B(j, t)\\,x_{i,j,t} \\le \\lambda & \\forall i \\in \\{1, \\dots, W\\} & & \\text{(2)}\\\\\n",
    "                 & \\text{SOS1}\\,\\{ x_{i,j,t}\\;\\forall t \\in {1, \\dots, T} \\} & \\forall i \\in \\{1, \\dots, W\\},\\,j \\in \\{1, \\dots, J\\} & & \\text{(3)}\\\\\n",
    "\\end{align*}\n",
    "$\n",
    "\n",
    "where\n",
    "* $x_{i,j,t} \\in \\{0, 1\\}$ is $1$ if worker $i$ is working on task $j$ at time $t$.\n",
    "* $\\lambda$ is the time the slowest worker takes to complete all their tasks.\n",
    "* $W$ is the number of workers.\n",
    "* $J$ is the number of tasks.\n",
    "* $T$ is the maximum number of units of work per a (worker, job) combination considered in the problem.\n",
    "* $q_j$ is the work unit quota for task $j$.\n",
    "* $B(j, t)$ is the time required to perform job $j$ $t$ times; this might scale non-linearly with $t$ as a worker learns that job.\n",
    "\n",
    "Notes on the constraints:\n",
    "1. We must meet work quotas $q$.\n",
    "2. Lower-bound $\\lambda$ by every worker's completion time; $\\lambda$ is the time for the slowest worker to complete all tasks.\n",
    "3. Only one binary time may be active per job + worker combination."
   ]
  },
  {
   "cell_type": "code",
   "execution_count": null,
   "metadata": {},
   "outputs": [],
   "source": []
  }
 ],
 "metadata": {
  "kernelspec": {
   "display_name": "Julia 0.6.2",
   "language": "julia",
   "name": "julia-0.6"
  },
  "language_info": {
   "file_extension": ".jl",
   "mimetype": "application/julia",
   "name": "julia",
   "version": "0.6.2"
  }
 },
 "nbformat": 4,
 "nbformat_minor": 2
}

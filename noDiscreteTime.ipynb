{
 "cells": [
  {
   "cell_type": "markdown",
   "metadata": {},
   "source": [
    "## Problem Statement 1:\n",
    "\n",
    "We have three workers with identical skills levels (1 unit of work per unit of time).  We have two types of tasks, digging and welding, each requiring 10 units of work.  How long will it take to finish all tasks?\n",
    "\n",
    "Answer: the first 18 units of work will be completed in 6 time, with all workers working simultaneuously.  The final two units of work will be completed by only two workers.  Total time: 7."
   ]
  },
  {
   "cell_type": "code",
   "execution_count": 24,
   "metadata": {},
   "outputs": [
    {
     "ename": "LoadError",
     "evalue": "\u001b[91msyntax: unexpected \"]\" in argument list\u001b[39m",
     "output_type": "error",
     "traceback": [
      "\u001b[91msyntax: unexpected \"]\" in argument list\u001b[39m",
      "",
      "Stacktrace:",
      " [1] \u001b[1minclude_string\u001b[22m\u001b[22m\u001b[1m(\u001b[22m\u001b[22m::String, ::String\u001b[1m)\u001b[22m\u001b[22m at \u001b[1m.\\loading.jl:522\u001b[22m\u001b[22m"
     ]
    }
   ],
   "source": [
    "# Worker skills\n",
    "# Digging | Welding    \n",
    "    S = [1 1;\n",
    "         1 1;\n",
    "         1 1]\n",
    "\n",
    "# Task work\n",
    "# Digging | Welding\n",
    "   T = [10 10]\n",
    "\n",
    "\n",
    "using JuMP, Gurobi\n",
    "\n",
    "m = Model(solver=GurobiSolver())\n",
    "\n",
    "@variable(m, z[1:size(S,1), 1:sum(T)], Bin) #Binary whether a worker works on a task\n",
    "@variable(m, s[1:size(S,1),1:size(S,2)] == 1) #The skill level of a worker\n",
    "##@variable(m, times[1:size(S,1),1:size(S,2)]) # The start time of a task\n",
    "\n",
    "@variable(m, task1[1:T[1]])\n",
    "@variable(m, task2[1:T[2]])\n",
    "        \n",
    "@variable(m, completionTime) # the total time it takes to finsih a project\n",
    "\n",
    "\n",
    "# If we are at the end time, then all tasks must be completed\n",
    "#@constraint(m, )\n",
    "\n",
    "# If a worker is on a task, then they can not be worker on another task\n",
    "@expression(m,  A = zeros(find(z[1,:], sum(z;1,:]))\n",
    "                for i=1:size(A,1)\n",
    "                    for j=1:size(A,2)\n",
    "                        if z[1,i] == true\n",
    "                            if \n",
    "            )\n",
    "@constraint(m, z[1,i]* <= 1)\n",
    "\n",
    "m\n",
    "                        \n",
    "                        \n",
    "#work in progress...."
   ]
  },
  {
   "cell_type": "markdown",
   "metadata": {},
   "source": [
    "Simplying attempt to one task and creating constraints a worker limited to one task at a time, without using discrete time.\n",
    "\n",
    "Problem here with comparing quadratic constraints"
   ]
  },
  {
   "cell_type": "code",
   "execution_count": 23,
   "metadata": {},
   "outputs": [
    {
     "ename": "LoadError",
     "evalue": "\u001b[91mMethodError: no method matching *(::Float64, ::JuMP.ConstraintRef{JuMP.Model,JuMP.GenericQuadConstraint{JuMP.GenericQuadExpr{Float64,JuMP.Variable}}})\u001b[0m\nClosest candidates are:\n  *(::Any, ::Any, \u001b[91m::Any\u001b[39m, \u001b[91m::Any...\u001b[39m) at operators.jl:424\n  *(::Float64, \u001b[91m::Float64\u001b[39m) at float.jl:379\n  *(::Real, \u001b[91m::Complex{Bool}\u001b[39m) at complex.jl:254\n  ...\u001b[39m",
     "output_type": "error",
     "traceback": [
      "\u001b[91mMethodError: no method matching *(::Float64, ::JuMP.ConstraintRef{JuMP.Model,JuMP.GenericQuadConstraint{JuMP.GenericQuadExpr{Float64,JuMP.Variable}}})\u001b[0m\nClosest candidates are:\n  *(::Any, ::Any, \u001b[91m::Any\u001b[39m, \u001b[91m::Any...\u001b[39m) at operators.jl:424\n  *(::Float64, \u001b[91m::Float64\u001b[39m) at float.jl:379\n  *(::Real, \u001b[91m::Complex{Bool}\u001b[39m) at complex.jl:254\n  ...\u001b[39m",
      "",
      "Stacktrace:",
      " [1] \u001b[1mbroadcast_t\u001b[22m\u001b[22m\u001b[1m(\u001b[22m\u001b[22m::Function, ::Type{Any}, ::Tuple{Base.OneTo{Int64},Base.OneTo{Int64},Base.OneTo{Int64}}, ::CartesianRange{CartesianIndex{3}}, ::Float64, ::Array{JuMP.ConstraintRef,3}\u001b[1m)\u001b[22m\u001b[22m at \u001b[1m.\\broadcast.jl:258\u001b[22m\u001b[22m",
      " [2] \u001b[1mbroadcast_c\u001b[22m\u001b[22m at \u001b[1m.\\broadcast.jl:321\u001b[22m\u001b[22m [inlined]",
      " [3] \u001b[1mbroadcast\u001b[22m\u001b[22m at \u001b[1m.\\broadcast.jl:455\u001b[22m\u001b[22m [inlined]",
      " [4] \u001b[1m*\u001b[22m\u001b[22m\u001b[1m(\u001b[22m\u001b[22m::Float64, ::Array{JuMP.ConstraintRef,3}\u001b[1m)\u001b[22m\u001b[22m at \u001b[1m.\\arraymath.jl:45\u001b[22m\u001b[22m",
      " [5] \u001b[1maddtoexpr_reorder\u001b[22m\u001b[22m\u001b[1m(\u001b[22m\u001b[22m::JuMP.GenericAffExpr{Float64,JuMP.Variable}, ::Array{JuMP.ConstraintRef,3}\u001b[1m)\u001b[22m\u001b[22m at \u001b[1mC:\\\\\\\\\\\\\\\\\\\\\\\\\\\\\\\\\\\\\\\\\\\\\\\\\\\\\\\\\\\\\\\\\\\\\\\\\\\\\\\\\\\\\\\\\\\\\\\\\\\\\\\\\\\\\\\\\\Users\\Noah Rhodes\\AppData\\Local\\JuliaPro\\pkgs-0.6.2.1\\v0.6\\JuMP\\src\\parseExpr_staged.jl:277\u001b[22m\u001b[22m",
      " [6] \u001b[1minclude_string\u001b[22m\u001b[22m\u001b[1m(\u001b[22m\u001b[22m::String, ::String\u001b[1m)\u001b[22m\u001b[22m at \u001b[1m.\\loading.jl:522\u001b[22m\u001b[22m"
     ]
    }
   ],
   "source": [
    "#number of Workers\n",
    "n=3\n",
    "#Number of tasks\n",
    "T= 4\n",
    "\n",
    "using JuMP, Gurobi\n",
    "m = Model(solver=GurobiSolver())\n",
    "@variable(m, z[1:n,1:T], Bin) #whether worker w  works task t\n",
    "@variable(m, t[1:T]) #the start time of each task\n",
    "\n",
    "@variable(m, d1[1:n,1:T], Bin) #Boolean logic variable\n",
    "@variable(m, d2[1:n,1:T], Bin) #Boolean logic variable\n",
    "@variable(m, q) # Minimax step for objective\n",
    "#Each task is worked on once\n",
    "@constraint(m, taskCompletion[i=1:T], sum(z[:,i]) == 1)\n",
    "\n",
    "#Each worker works one task at a time\n",
    "#Each task ends before t[j] or starts after t[j] ends\n",
    "\n",
    "# is true if each tasks starts after this one ends (assume tasks length is 1, upper time bound of 100)\n",
    "@constraint(m, a[k=1:T,i=1:n, j=1:T], d1[i,j]*100 >= (z[i,j]*(t[j]+1) - z[i,k]*t[k]))\n",
    "# is true if each tasks ends before this one starts (same assumptions)\n",
    "@constraint(m, b[k=1:T,i=1:n,j=1:T],  d2[i,j]*100 >= (z[i,j]*t[j]- z[i,k]*(t[k]+1)))\n",
    "#use q to minimuze the maximum end time\n",
    "@constraint(m, [i=1:n,j=1:T], q >= z[i,j]*(t[j] + 1))\n",
    "\n",
    "@constraint(m, a+b .>= 1) #one of the above statements must be true\n",
    "\n",
    "\n",
    "@objective(m, Min, q)\n",
    "\n",
    "status = solve(m)\n"
   ]
  },
  {
   "cell_type": "markdown",
   "metadata": {},
   "source": [
    "Reformulating problem to avoid comparing quadartic constraints by using an epigraph trick between start times and end times.\n",
    "\n",
    "Cannot create a model with a PSD matrix"
   ]
  },
  {
   "cell_type": "code",
   "execution_count": 3,
   "metadata": {},
   "outputs": [
    {
     "name": "stdout",
     "output_type": "stream",
     "text": [
      "Academic license - for non-commercial use only\n",
      "Optimize a model with 3 rows, 15 columns and 6 nonzeros\n",
      "Model has 36 quadratic constraints\n",
      "Variable types: 6 continuous, 9 integer (6 binary)\n",
      "Coefficient statistics:\n",
      "  Matrix range     [1e+00, 1e+00]\n",
      "  QMatrix range    [1e+00, 1e+00]\n",
      "  QLMatrix range   [1e+00, 1e+00]\n",
      "  Objective range  [1e+00, 1e+00]\n",
      "  Bounds range     [1e+00, 1e+00]\n",
      "  RHS range        [1e+00, 1e+00]\n",
      "Presolve time: 0.00s\n",
      "\n",
      "Explored 0 nodes (0 simplex iterations) in 0.00 seconds\n",
      "Thread count was 1 (of 8 available processors)\n",
      "\n",
      "Solution count 0\n",
      "\n",
      "Best objective -, best bound -, gap -\n",
      "Academic license - for non-commercial use only\n",
      "Optimize a model with 3 rows, 15 columns and 6 nonzeros\n",
      "Model has 36 quadratic constraints\n",
      "Variable types: 6 continuous, 9 integer (6 binary)\n",
      "Coefficient statistics:\n",
      "  Matrix range     [1e+00, 1e+00]\n",
      "  QMatrix range    [1e+00, 1e+00]\n",
      "  QLMatrix range   [1e+00, 1e+00]\n",
      "  Objective range  [1e+00, 1e+00]\n",
      "  Bounds range     [1e+00, 1e+00]\n",
      "  RHS range        [1e+00, 1e+00]\n",
      "Presolve time: 0.00s\n",
      "\n",
      "Explored 0 nodes (0 simplex iterations) in 0.00 seconds\n",
      "Thread count was 1 (of 8 available processors)\n",
      "\n",
      "Solution count 0\n",
      "\n",
      "Best objective -, best bound -, gap -\n"
     ]
    },
    {
     "ename": "LoadError",
     "evalue": "\u001b[91mGurobi.GurobiError(10020, \"Q matrix is not positive semi-definite (PSD)\")\u001b[39m",
     "output_type": "error",
     "traceback": [
      "\u001b[91mGurobi.GurobiError(10020, \"Q matrix is not positive semi-definite (PSD)\")\u001b[39m",
      "",
      "Stacktrace:",
      " [1] \u001b[1moptimize\u001b[22m\u001b[22m\u001b[1m(\u001b[22m\u001b[22m::Gurobi.Model\u001b[1m)\u001b[22m\u001b[22m at \u001b[1mC:\\Users\\Noah Rhodes\\AppData\\Local\\JuliaPro\\pkgs-0.6.2.1\\v0.6\\Gurobi\\src\\grb_solve.jl:7\u001b[22m\u001b[22m",
      " [2] \u001b[1moptimize!\u001b[22m\u001b[22m\u001b[1m(\u001b[22m\u001b[22m::Gurobi.GurobiMathProgModel\u001b[1m)\u001b[22m\u001b[22m at \u001b[1mC:\\Users\\Noah Rhodes\\AppData\\Local\\JuliaPro\\pkgs-0.6.2.1\\v0.6\\Gurobi\\src\\GurobiSolverInterface.jl:358\u001b[22m\u001b[22m",
      " [3] \u001b[1m#solve#116\u001b[22m\u001b[22m\u001b[1m(\u001b[22m\u001b[22m::Bool, ::Bool, ::Bool, ::Array{Any,1}, ::Function, ::JuMP.Model\u001b[1m)\u001b[22m\u001b[22m at \u001b[1mC:\\\\\\\\\\\\\\\\\\\\\\\\\\\\\\\\\\\\\\\\\\\\\\\\\\\\\\\\\\\\\\\\\\\\\\\\\\\\\\\\\\\\\\\\\\\\\\\\\\\\\\\\\\\\\\\\\\Users\\Noah Rhodes\\AppData\\Local\\JuliaPro\\pkgs-0.6.2.1\\v0.6\\JuMP\\src\\solvers.jl:175\u001b[22m\u001b[22m",
      " [4] \u001b[1msolve\u001b[22m\u001b[22m\u001b[1m(\u001b[22m\u001b[22m::JuMP.Model\u001b[1m)\u001b[22m\u001b[22m at \u001b[1mC:\\\\\\\\\\\\\\\\\\\\\\\\\\\\\\\\\\\\\\\\\\\\\\\\\\\\\\\\\\\\\\\\\\\\\\\\\\\\\\\\\\\\\\\\\\\\\\\\\\\\\\\\\\\\\\\\\\Users\\Noah Rhodes\\AppData\\Local\\JuliaPro\\pkgs-0.6.2.1\\v0.6\\JuMP\\src\\solvers.jl:150\u001b[22m\u001b[22m",
      " [5] \u001b[1minclude_string\u001b[22m\u001b[22m\u001b[1m(\u001b[22m\u001b[22m::String, ::String\u001b[1m)\u001b[22m\u001b[22m at \u001b[1m.\\loading.jl:522\u001b[22m\u001b[22m"
     ]
    }
   ],
   "source": [
    "#number of Workers\n",
    "n=2\n",
    "#Number of tasks\n",
    "T= 3\n",
    "\n",
    "using JuMP, Gurobi\n",
    "m = Model(solver=GurobiSolver())\n",
    "@variable(m, z[1:n,1:T], Bin) #whether worker w  works task t\n",
    "@variable(m, t[1:T], Int) #the start time of each task\n",
    "\n",
    "\n",
    "@variable(m, taskStartTime[1:T])\n",
    "@variable(m, taskEndTime[1:T])\n",
    "#@variable(m, d1[1:T], Bin)  #generic binary variable for logic\n",
    "\n",
    "for i=1:n\n",
    "    for j=1:T\n",
    "        @constraint(m,[k=1:T], z[i,j]*(t[j]+1) <= taskStartTime[k])\n",
    "        @constraint(m,[k=1:T], z[i,j]*(t[j]) >= taskEndTime[k])\n",
    "    end\n",
    "end\n",
    "\n",
    "\n",
    "@constraint(m, [k=1:T], taskStartTime[k] == taskEndTime[k] + 1)\n",
    "\n",
    "@objective(m, Min, sum(taskEndTime))  # generic objective to see if solver reports error\n",
    "\n",
    "solve(m)\n"
   ]
  },
  {
   "cell_type": "code",
   "execution_count": 5,
   "metadata": {},
   "outputs": [
    {
     "data": {
      "text/latex": [
       "$$ \\begin{alignat*}{1}\\min\\quad & taskEndTime_{1} + taskEndTime_{2} + taskEndTime_{3}\\\\\n",
       "\\text{Subject to} \\quad & taskStartTime_{1} - taskEndTime_{1} = 1\\\\\n",
       " & taskStartTime_{2} - taskEndTime_{2} = 1\\\\\n",
       " & taskStartTime_{3} - taskEndTime_{3} = 1\\\\\n",
       " & z_{1,1}\\times t_{1} + z_{1,1} - taskStartTime_{1} \\leq 0\\\\\n",
       " & z_{1,1}\\times t_{1} + z_{1,1} - taskStartTime_{2} \\leq 0\\\\\n",
       " & z_{1,1}\\times t_{1} + z_{1,1} - taskStartTime_{3} \\leq 0\\\\\n",
       " & z_{1,1}\\times t_{1} - taskEndTime_{1} \\geq 0\\\\\n",
       " & z_{1,1}\\times t_{1} - taskEndTime_{2} \\geq 0\\\\\n",
       " & z_{1,1}\\times t_{1} - taskEndTime_{3} \\geq 0\\\\\n",
       " & z_{1,2}\\times t_{2} + z_{1,2} - taskStartTime_{1} \\leq 0\\\\\n",
       " & z_{1,2}\\times t_{2} + z_{1,2} - taskStartTime_{2} \\leq 0\\\\\n",
       " & z_{1,2}\\times t_{2} + z_{1,2} - taskStartTime_{3} \\leq 0\\\\\n",
       " & z_{1,2}\\times t_{2} - taskEndTime_{1} \\geq 0\\\\\n",
       " & z_{1,2}\\times t_{2} - taskEndTime_{2} \\geq 0\\\\\n",
       " & z_{1,2}\\times t_{2} - taskEndTime_{3} \\geq 0\\\\\n",
       " & z_{1,3}\\times t_{3} + z_{1,3} - taskStartTime_{1} \\leq 0\\\\\n",
       " & z_{1,3}\\times t_{3} + z_{1,3} - taskStartTime_{2} \\leq 0\\\\\n",
       " & z_{1,3}\\times t_{3} + z_{1,3} - taskStartTime_{3} \\leq 0\\\\\n",
       " & z_{1,3}\\times t_{3} - taskEndTime_{1} \\geq 0\\\\\n",
       " & z_{1,3}\\times t_{3} - taskEndTime_{2} \\geq 0\\\\\n",
       " & z_{1,3}\\times t_{3} - taskEndTime_{3} \\geq 0\\\\\n",
       " & z_{2,1}\\times t_{1} + z_{2,1} - taskStartTime_{1} \\leq 0\\\\\n",
       " & z_{2,1}\\times t_{1} + z_{2,1} - taskStartTime_{2} \\leq 0\\\\\n",
       " & z_{2,1}\\times t_{1} + z_{2,1} - taskStartTime_{3} \\leq 0\\\\\n",
       " & z_{2,1}\\times t_{1} - taskEndTime_{1} \\geq 0\\\\\n",
       " & z_{2,1}\\times t_{1} - taskEndTime_{2} \\geq 0\\\\\n",
       " & z_{2,1}\\times t_{1} - taskEndTime_{3} \\geq 0\\\\\n",
       " & z_{2,2}\\times t_{2} + z_{2,2} - taskStartTime_{1} \\leq 0\\\\\n",
       " & z_{2,2}\\times t_{2} + z_{2,2} - taskStartTime_{2} \\leq 0\\\\\n",
       " & z_{2,2}\\times t_{2} + z_{2,2} - taskStartTime_{3} \\leq 0\\\\\n",
       " & z_{2,2}\\times t_{2} - taskEndTime_{1} \\geq 0\\\\\n",
       " & z_{2,2}\\times t_{2} - taskEndTime_{2} \\geq 0\\\\\n",
       " & z_{2,2}\\times t_{2} - taskEndTime_{3} \\geq 0\\\\\n",
       " & z_{2,3}\\times t_{3} + z_{2,3} - taskStartTime_{1} \\leq 0\\\\\n",
       " & z_{2,3}\\times t_{3} + z_{2,3} - taskStartTime_{2} \\leq 0\\\\\n",
       " & z_{2,3}\\times t_{3} + z_{2,3} - taskStartTime_{3} \\leq 0\\\\\n",
       " & z_{2,3}\\times t_{3} - taskEndTime_{1} \\geq 0\\\\\n",
       " & z_{2,3}\\times t_{3} - taskEndTime_{2} \\geq 0\\\\\n",
       " & z_{2,3}\\times t_{3} - taskEndTime_{3} \\geq 0\\\\\n",
       " & z_{i,j} \\in \\{0,1\\} \\quad\\forall i \\in \\{1,2\\}, j \\in \\{1,2,3\\}\\\\\n",
       " & t_{i}, \\in \\mathbb{Z}, \\quad\\forall i \\in \\{1,2,3\\}\\\\\n",
       " & taskStartTime_{i} \\quad\\forall i \\in \\{1,2,3\\}\\\\\n",
       " & taskEndTime_{i} \\quad\\forall i \\in \\{1,2,3\\}\\\\\n",
       "\\end{alignat*}\n",
       " $$"
      ],
      "text/plain": [
       "Minimization problem with:\n",
       " * 3 linear constraints\n",
       " * 36 quadratic constraints\n",
       " * 15 variables: 6 binary, 3 integer\n",
       "Solver is Gurobi"
      ]
     },
     "execution_count": 5,
     "metadata": {},
     "output_type": "execute_result"
    }
   ],
   "source": [
    "m"
   ]
  }
 ],
 "metadata": {
  "kernelspec": {
   "display_name": "Julia 0.6.2",
   "language": "julia",
   "name": "julia-0.6"
  },
  "language_info": {
   "file_extension": ".jl",
   "mimetype": "application/julia",
   "name": "julia",
   "version": "0.6.2"
  }
 },
 "nbformat": 4,
 "nbformat_minor": 2
}

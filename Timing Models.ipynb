{
 "cells": [
  {
   "cell_type": "markdown",
   "metadata": {},
   "source": [
    "## Model 1\n",
    "\n",
    "5 workers, numnber of tasks ranges from 5 to 500"
   ]
  },
  {
   "cell_type": "code",
   "execution_count": 40,
   "metadata": {},
   "outputs": [
    {
     "name": "stdout",
     "output_type": "stream",
     "text": [
      "Academic license - for non-commercial use only\n",
      "  0.045166 seconds (123 allocations: 64.469 KiB)\n",
      "Academic license - for non-commercial use only\n",
      "  0.052298 seconds (123 allocations: 213.750 KiB)\n",
      "Academic license - for non-commercial use only\n",
      "  0.164076 seconds (133 allocations: 459.172 KiB)\n",
      "Academic license - for non-commercial use only\n",
      "  0.244695 seconds (149 allocations: 1.737 MiB)\n",
      "Academic license - for non-commercial use only\n",
      "  0.808789 seconds (153 allocations: 4.784 MiB, 14.16% gc time)\n",
      "Academic license - for non-commercial use only\n",
      "  3.110300 seconds (154 allocations: 19.044 MiB, 0.45% gc time)\n",
      "Academic license - for non-commercial use only\n",
      " 13.395959 seconds (154 allocations: 42.793 MiB, 0.35% gc time)\n",
      "Academic license - for non-commercial use only\n",
      " 23.290435 seconds (154 allocations: 76.031 MiB, 1.31% gc time)\n"
     ]
    },
    {
     "data": {
      "image/png": "[encoded data removed]",
      "text/plain": [
       "PyPlot.Figure(PyObject <matplotlib.figure.Figure object at 0x0000000023DA86D8>)"
      ]
     },
     "metadata": {},
     "output_type": "display_data"
    },
    {
     "name": "stdout",
     "output_type": "stream",
     "text": [
      "Academic license - for non-commercial use only\r\n",
      "579.968473 seconds (161 allocations: 474.729 MiB, 0.35% gc time)\n"
     ]
    },
    {
     "data": {
      "text/plain": [
       "1-element Array{PyCall.PyObject,1}:\n",
       " PyObject <matplotlib.lines.Line2D object at 0x000000003F560470>"
      ]
     },
     "execution_count": 40,
     "metadata": {},
     "output_type": "execute_result"
    }
   ],
   "source": [
    "using JuMP, Gurobi, PyPlot\n",
    "\n",
    "scaleFactor = [1 2 3 6 10 20 30 40 100]\n",
    "    \n",
    "timer = zeros(length(scaleFactor))\n",
    "\n",
    "for i=1:length(scaleFactor)\n",
    "\n",
    "    N = 100 #tasks\n",
    "    M = 5*scaleFactor[i] #workers\n",
    "    T = N #upper bound on project completion\n",
    "\n",
    "    m = Model(solver=GurobiSolver(OutputFlag=0))\n",
    "\n",
    "    @variable(m, x[1:N, 1:M, 1:T], Bin)\n",
    "    @variable(m, last)\n",
    "\n",
    "    # due to the following two constraints, this just selects the time\n",
    "    # when x[j, i, t] = 1, since x[j, :, :] has only one nonzero elemnt\n",
    "    @expression(m, start_t[j=1:N], sum(x[j, i, t] * t for i=1:M for t=1:T))\n",
    "\n",
    "    # at most one job per timestep per person\n",
    "    @constraint(m, [t=1:T, i=1:M], sum(x[:, i, t]) <= 1)\n",
    "\n",
    "    # each task is only worked on once\n",
    "    @constraint(m, [j=1:N], sum(x[j, :, :]) == 1)\n",
    "\n",
    "    # min { max_j end_t[j] }\n",
    "    @constraint(m, [j=1:N], last >= start_t[j] + 1)\n",
    "\n",
    "    @objective(m, Min, last)\n",
    "\n",
    "    @time(solve(m))\n",
    "    timer[i] = getsolvetime(m)\n",
    "\n",
    "end\n",
    "\n",
    "semilogx(scaleFactor,timer)"
   ]
  },
  {
   "cell_type": "markdown",
   "metadata": {},
   "source": [
    "## Model 1\n",
    "\n",
    "100 tasks, workers vary from 5 to 100\n"
   ]
  },
  {
   "cell_type": "code",
   "execution_count": 55,
   "metadata": {},
   "outputs": [
    {
     "name": "stdout",
     "output_type": "stream",
     "text": [
      "Academic license - for non-commercial use only\n",
      "  2.520923 seconds (154 allocations: 19.044 MiB, 0.57% gc time)\n",
      "Academic license - for non-commercial use only\n",
      "  4.877439 seconds (154 allocations: 38.053 MiB, 1.21% gc time)\n",
      "Academic license - for non-commercial use only\n",
      " 20.061721 seconds (161 allocations: 114.090 MiB, 1.39% gc time)\n",
      "Academic license - for non-commercial use only\n",
      " 15.710448 seconds (163 allocations: 190.126 MiB, 2.28% gc time)\n",
      "Academic license - for non-commercial use only\n",
      " 29.327359 seconds (163 allocations: 228.145 MiB, 1.95% gc time)\n",
      "Academic license - for non-commercial use only\n",
      " 32.404461 seconds (163 allocations: 342.200 MiB, 4.14% gc time)\n",
      "Academic license - for non-commercial use only\n",
      " 24.172739 seconds (163 allocations: 380.218 MiB, 8.56% gc time)\n"
     ]
    },
    {
     "ename": "LoadError",
     "evalue": "\u001b[91mBoundsError: attempt to access 1×7 Array{Int64,2} at index [8]\u001b[39m",
     "output_type": "error",
     "traceback": [
      "\u001b[91mBoundsError: attempt to access 1×7 Array{Int64,2} at index [8]\u001b[39m",
      "",
      "Stacktrace:",
      " [1] \u001b[1mgetindex\u001b[22m\u001b[22m\u001b[1m(\u001b[22m\u001b[22m::Array{Int64,2}, ::Int64\u001b[1m)\u001b[22m\u001b[22m at \u001b[1m.\\array.jl:554\u001b[22m\u001b[22m",
      " [2] \u001b[1mmacro expansion\u001b[22m\u001b[22m at \u001b[1m.\\In[55]:10\u001b[22m\u001b[22m [inlined]",
      " [3] \u001b[1manonymous\u001b[22m\u001b[22m at \u001b[1m.\\<missing>:?\u001b[22m\u001b[22m",
      " [4] \u001b[1minclude_string\u001b[22m\u001b[22m\u001b[1m(\u001b[22m\u001b[22m::String, ::String\u001b[1m)\u001b[22m\u001b[22m at \u001b[1m.\\loading.jl:522\u001b[22m\u001b[22m"
     ]
    }
   ],
   "source": [
    "using JuMP, Gurobi, PyPlot\n",
    "\n",
    "scaleFactor = [1 2 6 10 12 18 20]\n",
    "    \n",
    "timer = zeros(length(scaleFactor))\n",
    "\n",
    "for i=1:length(scaleFactor)\n",
    "\n",
    "    N = 100 #tasks\n",
    "    M = 5*scaleFactor[i] #workers\n",
    "    T = N #upper bound on project completion\n",
    "\n",
    "    m = Model(solver=GurobiSolver(OutputFlag=0))\n",
    "\n",
    "    @variable(m, x[1:N, 1:M, 1:T], Bin)\n",
    "    @variable(m, last)\n",
    "\n",
    "    # due to the following two constraints, this just selects the time\n",
    "    # when x[j, i, t] = 1, since x[j, :, :] has only one nonzero elemnt\n",
    "    @expression(m, start_t[j=1:N], sum(x[j, i, t] * t for i=1:M for t=1:T))\n",
    "\n",
    "    # at most one job per timestep per person\n",
    "    @constraint(m, [t=1:T, i=1:M], sum(x[:, i, t]) <= 1)\n",
    "\n",
    "    # each task is only worked on once\n",
    "    @constraint(m, [j=1:N], sum(x[j, :, :]) == 1)\n",
    "\n",
    "    # min { max_j end_t[j] }\n",
    "    @constraint(m, [j=1:N], last >= start_t[j] + 1)\n",
    "\n",
    "    @objective(m, Min, last)\n",
    "\n",
    "    @time(solve(m))\n",
    "    timer[i] = getsolvetime(m)\n",
    "\n",
    "end\n",
    "\n",
    "semilogx(scaleFactor,timer)"
   ]
  },
  {
   "cell_type": "markdown",
   "metadata": {},
   "source": [
    "## Model 2 - Tasks \n",
    "\n",
    "Number of workers and task types held constant\n",
    "\n",
    "Total number of tasks scales"
   ]
  },
  {
   "cell_type": "code",
   "execution_count": 53,
   "metadata": {},
   "outputs": [
    {
     "name": "stdout",
     "output_type": "stream",
     "text": [
      "Academic license - for non-commercial use only\n",
      "  0.046824 seconds (145 allocations: 996.984 KiB)\n",
      "Academic license - for non-commercial use only\n",
      "  0.926364 seconds (162 allocations: 8.814 MiB, 1.10% gc time)\n"
     ]
    },
    {
     "data": {
      "image/png": "[encoded data removed]",
      "text/plain": [
       "PyPlot.Figure(PyObject <matplotlib.figure.Figure object at 0x000000003F7B55F8>)"
      ]
     },
     "metadata": {},
     "output_type": "display_data"
    },
    {
     "name": "stdout",
     "output_type": "stream",
     "text": [
      "Academic license - for non-commercial use only\r\n",
      "  5.855057 seconds (164 allocations: 24.550 MiB, 0.75% gc time)\n"
     ]
    },
    {
     "data": {
      "text/plain": [
       "1-element Array{PyCall.PyObject,1}:\n",
       " PyObject <matplotlib.lines.Line2D object at 0x000000003F8677B8>"
      ]
     },
     "execution_count": 53,
     "metadata": {},
     "output_type": "execute_result"
    }
   ],
   "source": [
    "using JuMP, Gurobi, PyPlot\n",
    "\n",
    "scaleFactor = [1, 3, 5, 9, 15]\n",
    "timer = zeros(length(scaleFactor))\n",
    "\n",
    "for u=1:length(scaleFactor)\n",
    "\n",
    "    \n",
    "# Task/Worker Parameters\n",
    "###############################\n",
    "\n",
    "## We require 5 of task_1, 1 of task_2, etc.\n",
    "N = [1,3,2]*scaleFactor[u]  #tasks\n",
    "n = maximum(N) #max number of tasks for a category\n",
    "v = size(N,1) # number of types of tasks\n",
    "\n",
    "## Each row of W is a worker, and the column is the time required for the worker to complete that task\n",
    "#W = hcat(ones(w), 3*ones(w), 2*ones(w)) # 1 worker who completes task 1 in 1 time, tasks 2 in three time, etc.\n",
    "W = [1 3 4;\n",
    "     5 6 1;]\n",
    "w = size(W,1) #number of workers\n",
    "\n",
    "\n",
    "T = convert(Int64,maximum(W)*sum(N)) #upper bound on project completion\n",
    "\n",
    "###############################\n",
    "\n",
    "\n",
    "\n",
    "m = Model(solver=GurobiSolver(OutputFlag=0))\n",
    "\n",
    "@variable(m, x[1:n, 1:v, 1:w, 1:T], Bin) # true when a worker starts a task\n",
    "@variable(m, z[1:n, 1:v, 1:w, 1:T], Bin) #true if a worker is working on a task (extends x with task length)\n",
    "\n",
    "@variable(m, last)\n",
    "\n",
    "#If a worker starts a task at time t, z if true until the tasks completes\n",
    "for i=1:n\n",
    "    for j=1:v\n",
    "        for k=1:w\n",
    "            for t=1:T\n",
    "                #@constraint(m, [i=1:n,j=1:v,k=1:w, t=1:T], z[i,j,k,t+l] == x[i,j,k,t] for l=1:W[k,j])\n",
    "                if t < T-convert(Int64,W[k,j])\n",
    "                    @constraint(m, [l=1:convert(Int64,W[k,j])], z[i,j,k,t+l-1] >= x[i,j,k,t])  \n",
    "                else\n",
    "                    @constraint(m, [l=1:T-t], z[i,j,k,t+l-1] >= x[i,j,k,t])  \n",
    "                end\n",
    "            end\n",
    "        end\n",
    "    end\n",
    "end\n",
    "\n",
    "#only one task in z can be worked simultaneously\n",
    "@constraint(m, [k=1:w, t=1:T], sum(z[:,:,k,t]) <= 1)\n",
    "\n",
    "#expression is used as an epigraph to find the end time of the last task\n",
    "@expression(m, end_t[j=1:n, k=1:v, i=1:w], sum((x[j,k,i,t])*(t+W[i,k]) for t=1:T))\n",
    "@expression(m, start_t[j=1:n, k=1:v, i=1:w], sum((x[j,k,i,t])*(t) for t=1:T))\n",
    "\n",
    "# at most one job per timestep per person\n",
    "@constraint(m, [t=1:T, i=1:w], sum(x[:, :, i, t]) <= 1)\n",
    "\n",
    "# each task is only worked on once and all tasks are completed\n",
    "@constraint(m, [j=1:n, i=1:v], sum(x[j, i, :, :]) <= 1)\n",
    "@constraint(m, [i=1:v], sum(x[:,i,:,:]) == N[i])\n",
    "\n",
    "# min { max_j end_t[j] }\n",
    "@constraint(m, [j=1:n, k=1:v, i=1:w], last >= end_t[j,k,i])\n",
    "\n",
    "@objective(m, Min, last)\n",
    "\n",
    "    \n",
    "    @time(solve(m))\n",
    "    timer[u] = getsolvetime(m)\n",
    "\n",
    "end\n",
    "\n",
    "semilogx(scaleFactor,timer)"
   ]
  },
  {
   "cell_type": "markdown",
   "metadata": {},
   "source": [
    "## Model 2 - Workers\n",
    "\n",
    "Number of tasks and types of tasks held constant.  \n",
    "\n",
    "Number of workers scales"
   ]
  },
  {
   "cell_type": "code",
   "execution_count": 58,
   "metadata": {},
   "outputs": [
    {
     "name": "stdout",
     "output_type": "stream",
     "text": [
      "Academic license - for non-commercial use only\n",
      "  2.795056 seconds (164 allocations: 17.767 MiB, 0.78% gc time)\n",
      "Academic license - for non-commercial use only\n",
      " 10.956685 seconds (165 allocations: 52.105 MiB, 0.55% gc time)\n"
     ]
    },
    {
     "data": {
      "image/png": "[encoded data removed]",
      "text/plain": [
       "PyPlot.Figure(PyObject <matplotlib.figure.Figure object at 0x000000003F470438>)"
      ]
     },
     "metadata": {},
     "output_type": "display_data"
    },
    {
     "name": "stdout",
     "output_type": "stream",
     "text": [
      "Academic license - for non-commercial use only\r\n",
      " 10.181994 seconds (165 allocations: 63.790 MiB, 0.76% gc time)\n"
     ]
    },
    {
     "data": {
      "text/plain": [
       "1-element Array{PyCall.PyObject,1}:\n",
       " PyObject <matplotlib.lines.Line2D object at 0x000000003F9ACEF0>"
      ]
     },
     "execution_count": 58,
     "metadata": {},
     "output_type": "execute_result"
    }
   ],
   "source": [
    "using JuMP, Gurobi, PyPlot\n",
    "\n",
    "scaleFactor = [1, 3, 5, 9, 15]\n",
    "timer = zeros(length(scaleFactor))\n",
    "\n",
    "for u=1:length(scaleFactor)\n",
    "\n",
    "    \n",
    "# Task/Worker Parameters\n",
    "###############################\n",
    "\n",
    "## We require 5 of task_1, 1 of task_2, etc.\n",
    "N = [5,15,20] #tasks\n",
    "n = maximum(N) #max number of tasks for a category\n",
    "v = size(N,1) # number of types of tasks\n",
    "\n",
    "## Each row of W is a worker, and the column is the time required for the worker to complete that task\n",
    "#W = hcat(ones(w), 3*ones(w), 2*ones(w)) # 1 worker who completes task 1 in 1 time, tasks 2 in three time, etc.\n",
    "#W = [1 3 4;\n",
    "#     5 6 1;]   \n",
    "W = rand(1:10, 1*scaleFactor[u],3)\n",
    "w = size(W,1) #number of workers\n",
    "\n",
    "\n",
    "T = convert(Int64,maximum(W)*sum(N)) #upper bound on project completion\n",
    "\n",
    "###############################\n",
    "\n",
    "\n",
    "\n",
    "m = Model(solver=GurobiSolver(OutputFlag=0))\n",
    "\n",
    "@variable(m, x[1:n, 1:v, 1:w, 1:T], Bin) # true when a worker starts a task\n",
    "@variable(m, z[1:n, 1:v, 1:w, 1:T], Bin) #true if a worker is working on a task (extends x with task length)\n",
    "\n",
    "@variable(m, last)\n",
    "\n",
    "#If a worker starts a task at time t, z if true until the tasks completes\n",
    "for i=1:n\n",
    "    for j=1:v\n",
    "        for k=1:w\n",
    "            for t=1:T\n",
    "                #@constraint(m, [i=1:n,j=1:v,k=1:w, t=1:T], z[i,j,k,t+l] == x[i,j,k,t] for l=1:W[k,j])\n",
    "                if t < T-convert(Int64,W[k,j])\n",
    "                    @constraint(m, [l=1:convert(Int64,W[k,j])], z[i,j,k,t+l-1] >= x[i,j,k,t])  \n",
    "                else\n",
    "                    @constraint(m, [l=1:T-t], z[i,j,k,t+l-1] >= x[i,j,k,t])  \n",
    "                end\n",
    "            end\n",
    "        end\n",
    "    end\n",
    "end\n",
    "\n",
    "#only one task in z can be worked simultaneously\n",
    "@constraint(m, [k=1:w, t=1:T], sum(z[:,:,k,t]) <= 1)\n",
    "\n",
    "#expression is used as an epigraph to find the end time of the last task\n",
    "@expression(m, end_t[j=1:n, k=1:v, i=1:w], sum((x[j,k,i,t])*(t+W[i,k]) for t=1:T))\n",
    "@expression(m, start_t[j=1:n, k=1:v, i=1:w], sum((x[j,k,i,t])*(t) for t=1:T))\n",
    "\n",
    "# at most one job per timestep per person\n",
    "@constraint(m, [t=1:T, i=1:w], sum(x[:, :, i, t]) <= 1)\n",
    "\n",
    "# each task is only worked on once and all tasks are completed\n",
    "@constraint(m, [j=1:n, i=1:v], sum(x[j, i, :, :]) <= 1)\n",
    "@constraint(m, [i=1:v], sum(x[:,i,:,:]) == N[i])\n",
    "\n",
    "# min { max_j end_t[j] }\n",
    "@constraint(m, [j=1:n, k=1:v, i=1:w], last >= end_t[j,k,i])\n",
    "\n",
    "@objective(m, Min, last)\n",
    "\n",
    "    \n",
    "    @time(solve(m))\n",
    "    timer[u] = getsolvetime(m)\n",
    "\n",
    "end\n",
    "\n",
    "semilogx(scaleFactor,timer)"
   ]
  },
  {
   "cell_type": "markdown",
   "metadata": {},
   "source": [
    "## Model 2 - Task Variety\n",
    "Number of workers and tasks held constant.\n",
    "\n",
    "Variety of task types scales\n"
   ]
  },
  {
   "cell_type": "code",
   "execution_count": 71,
   "metadata": {},
   "outputs": [
    {
     "name": "stdout",
     "output_type": "stream",
     "text": [
      "Academic license - for non-commercial use only\n",
      " 44.417975 seconds (165 allocations: 163.488 MiB)\n",
      "Academic license - for non-commercial use only\n",
      "  0.909422 seconds (162 allocations: 14.230 MiB)\n"
     ]
    },
    {
     "data": {
      "image/png": "[encoded data removed]",
      "text/plain": [
       "PyPlot.Figure(PyObject <matplotlib.figure.Figure object at 0x000000003F9C65C0>)"
      ]
     },
     "metadata": {},
     "output_type": "display_data"
    },
    {
     "name": "stdout",
     "output_type": "stream",
     "text": [
      "Academic license - for non-commercial use only\r\n",
      "  0.131314 seconds (161 allocations: 4.504 MiB)\n"
     ]
    },
    {
     "data": {
      "text/plain": [
       "1-element Array{PyCall.PyObject,1}:\n",
       " PyObject <matplotlib.lines.Line2D object at 0x000000005158F8D0>"
      ]
     },
     "execution_count": 71,
     "metadata": {},
     "output_type": "execute_result"
    }
   ],
   "source": [
    "using JuMP, Gurobi, PyPlot\n",
    "\n",
    "scaleFactor = [1, 3, 5, 9, 15]\n",
    "timer = zeros(length(scaleFactor))\n",
    "\n",
    "for u=1:length(scaleFactor)\n",
    "\n",
    "    \n",
    "# Task/Worker Parameters\n",
    "###############################\n",
    "\n",
    "## We require 5 of task_1, 1 of task_2, etc.\n",
    "#N = [5,15,20] #tasks\n",
    "N = round.(Int, 15/scaleFactor[u] * ones(1,scaleFactor[u])) #50 total tasks, normally, across categories\n",
    "n = maximum(N) #max number of tasks for a category\n",
    "v = size(N,1) # number of types of tasks\n",
    "\n",
    "## Each row of W is a worker, and the column is the time required for the worker to complete that task\n",
    "W = rand(1:10, 5 ,3) # five workers, with skills across 3 categtories\n",
    "w = size(W,1) #number of workers\n",
    "\n",
    "\n",
    "T = convert(Int64,maximum(W)*sum(N)) #upper bound on project completion\n",
    "\n",
    "###############################\n",
    "\n",
    "\n",
    "\n",
    "m = Model(solver=GurobiSolver(OutputFlag=0))\n",
    "\n",
    "@variable(m, x[1:n, 1:v, 1:w, 1:T], Bin) # true when a worker starts a task\n",
    "@variable(m, z[1:n, 1:v, 1:w, 1:T], Bin) #true if a worker is working on a task (extends x with task length)\n",
    "\n",
    "@variable(m, last)\n",
    "\n",
    "#If a worker starts a task at time t, z if true until the tasks completes\n",
    "for i=1:n\n",
    "    for j=1:v\n",
    "        for k=1:w\n",
    "            for t=1:T\n",
    "                #@constraint(m, [i=1:n,j=1:v,k=1:w, t=1:T], z[i,j,k,t+l] == x[i,j,k,t] for l=1:W[k,j])\n",
    "                if t < T-convert(Int64,W[k,j])\n",
    "                    @constraint(m, [l=1:convert(Int64,W[k,j])], z[i,j,k,t+l-1] >= x[i,j,k,t])  \n",
    "                else\n",
    "                    @constraint(m, [l=1:T-t], z[i,j,k,t+l-1] >= x[i,j,k,t])  \n",
    "                end\n",
    "            end\n",
    "        end\n",
    "    end\n",
    "end\n",
    "\n",
    "#only one task in z can be worked simultaneously\n",
    "@constraint(m, [k=1:w, t=1:T], sum(z[:,:,k,t]) <= 1)\n",
    "\n",
    "#expression is used as an epigraph to find the end time of the last task\n",
    "@expression(m, end_t[j=1:n, k=1:v, i=1:w], sum((x[j,k,i,t])*(t+W[i,k]) for t=1:T))\n",
    "@expression(m, start_t[j=1:n, k=1:v, i=1:w], sum((x[j,k,i,t])*(t) for t=1:T))\n",
    "\n",
    "# at most one job per timestep per person\n",
    "@constraint(m, [t=1:T, i=1:w], sum(x[:, :, i, t]) <= 1)\n",
    "\n",
    "# each task is only worked on once and all tasks are completed\n",
    "@constraint(m, [j=1:n, i=1:v], sum(x[j, i, :, :]) <= 1)\n",
    "@constraint(m, [i=1:v], sum(x[:,i,:,:]) == N[i])\n",
    "\n",
    "# min { max_j end_t[j] }\n",
    "@constraint(m, [j=1:n, k=1:v, i=1:w], last >= end_t[j,k,i])\n",
    "\n",
    "@objective(m, Min, last)\n",
    "\n",
    "    \n",
    "    @time(solve(m))\n",
    "    timer[u] = getsolvetime(m)\n",
    "\n",
    "end\n",
    "\n",
    "semilogx(scaleFactor,timer)"
   ]
  },
  {
   "cell_type": "markdown",
   "metadata": {},
   "source": [
    "## Model 2 - Task Variety, tasks number scales accordingly.\n",
    "Number of workers constant\n",
    "\n",
    "Variety of task types scales, and each task is done the same number of times.\n"
   ]
  },
  {
   "cell_type": "code",
   "execution_count": 78,
   "metadata": {},
   "outputs": [
    {
     "name": "stdout",
     "output_type": "stream",
     "text": [
      "Academic license - for non-commercial use only\n",
      "  0.084780 seconds (160 allocations: 2.328 MiB)\n",
      "Academic license - for non-commercial use only\n",
      "  0.225876 seconds (162 allocations: 7.249 MiB)\n"
     ]
    },
    {
     "data": {
      "image/png": "[encoded data removed]",
      "text/plain": [
       "PyPlot.Figure(PyObject <matplotlib.figure.Figure object at 0x0000000051482C88>)"
      ]
     },
     "metadata": {},
     "output_type": "display_data"
    },
    {
     "name": "stdout",
     "output_type": "stream",
     "text": [
      "Academic license - for non-commercial use only\r\n",
      "  0.492421 seconds (162 allocations: 12.709 MiB)\n"
     ]
    },
    {
     "data": {
      "text/plain": [
       "1-element Array{PyCall.PyObject,1}:\n",
       " PyObject <matplotlib.lines.Line2D object at 0x0000000050D5EFD0>"
      ]
     },
     "execution_count": 78,
     "metadata": {},
     "output_type": "execute_result"
    }
   ],
   "source": [
    "using JuMP, Gurobi, PyPlot\n",
    "\n",
    "scaleFactor = [1, 3, 5, 9, 15]\n",
    "timer = zeros(length(scaleFactor))\n",
    "\n",
    "for u=1:length(scaleFactor)\n",
    "\n",
    "    \n",
    "# Task/Worker Parameters\n",
    "###############################\n",
    "\n",
    "## We require 5 of task_1, 1 of task_2, etc.\n",
    "#N = [5,15,20] #tasks\n",
    "N = round.(Int,10*ones(1,scaleFactor[u])) #50 total tasks, normally, across categories\n",
    "n = maximum(N) #max number of tasks for a category\n",
    "v = size(N,1) # number of types of tasks\n",
    "\n",
    "## Each row of W is a worker, and the column is the time required for the worker to complete that task\n",
    "W = rand(1:10, 5 ,3) # five workers, with skills across 3 categtories\n",
    "w = size(W,1) #number of workers\n",
    "\n",
    "\n",
    "T = convert(Int64,maximum(W)*sum(N)) #upper bound on project completion\n",
    "\n",
    "###############################\n",
    "\n",
    "\n",
    "\n",
    "m = Model(solver=GurobiSolver(OutputFlag=0))\n",
    "\n",
    "@variable(m, x[1:n, 1:v, 1:w, 1:T], Bin) # true when a worker starts a task\n",
    "@variable(m, z[1:n, 1:v, 1:w, 1:T], Bin) #true if a worker is working on a task (extends x with task length)\n",
    "\n",
    "@variable(m, last)\n",
    "\n",
    "#If a worker starts a task at time t, z if true until the tasks completes\n",
    "for i=1:n\n",
    "    for j=1:v\n",
    "        for k=1:w\n",
    "            for t=1:T\n",
    "                #@constraint(m, [i=1:n,j=1:v,k=1:w, t=1:T], z[i,j,k,t+l] == x[i,j,k,t] for l=1:W[k,j])\n",
    "                if t < T-convert(Int64,W[k,j])\n",
    "                    @constraint(m, [l=1:convert(Int64,W[k,j])], z[i,j,k,t+l-1] >= x[i,j,k,t])  \n",
    "                else\n",
    "                    @constraint(m, [l=1:T-t], z[i,j,k,t+l-1] >= x[i,j,k,t])  \n",
    "                end\n",
    "            end\n",
    "        end\n",
    "    end\n",
    "end\n",
    "\n",
    "#only one task in z can be worked simultaneously\n",
    "@constraint(m, [k=1:w, t=1:T], sum(z[:,:,k,t]) <= 1)\n",
    "\n",
    "#expression is used as an epigraph to find the end time of the last task\n",
    "@expression(m, end_t[j=1:n, k=1:v, i=1:w], sum((x[j,k,i,t])*(t+W[i,k]) for t=1:T))\n",
    "@expression(m, start_t[j=1:n, k=1:v, i=1:w], sum((x[j,k,i,t])*(t) for t=1:T))\n",
    "\n",
    "# at most one job per timestep per person\n",
    "@constraint(m, [t=1:T, i=1:w], sum(x[:, :, i, t]) <= 1)\n",
    "\n",
    "# each task is only worked on once and all tasks are completed\n",
    "@constraint(m, [j=1:n, i=1:v], sum(x[j, i, :, :]) <= 1)\n",
    "@constraint(m, [i=1:v], sum(x[:,i,:,:]) == N[i])\n",
    "\n",
    "# min { max_j end_t[j] }\n",
    "@constraint(m, [j=1:n, k=1:v, i=1:w], last >= end_t[j,k,i])\n",
    "\n",
    "@objective(m, Min, last)\n",
    "\n",
    "    \n",
    "    @time(solve(m))\n",
    "    timer[u] = getsolvetime(m)\n",
    "\n",
    "end\n",
    "\n",
    "semilogx(scaleFactor,timer)"
   ]
  }
 ],
 "metadata": {
  "kernelspec": {
   "display_name": "Julia 0.6.2",
   "language": "julia",
   "name": "julia-0.6"
  },
  "language_info": {
   "file_extension": ".jl",
   "mimetype": "application/julia",
   "name": "julia",
   "version": "0.6.2"
  }
 },
 "nbformat": 4,
 "nbformat_minor": 2
}

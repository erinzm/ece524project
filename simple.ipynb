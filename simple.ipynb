{
 "cells": [
  {
   "cell_type": "code",
   "execution_count": null,
   "metadata": {},
   "outputs": [],
   "source": [
    "using JuMP, Cbc"
   ]
  },
  {
   "cell_type": "code",
   "execution_count": 22,
   "metadata": {},
   "outputs": [
    {
     "data": {
      "text/plain": [
       ":Optimal"
      ]
     },
     "execution_count": 22,
     "metadata": {},
     "output_type": "execute_result"
    }
   ],
   "source": [
    "N = 30 #tasks\n",
    "M = 10 #wrkers\n",
    "T = 100\n",
    "\n",
    "m = Model(solver=CbcSolver())\n",
    "\n",
    "@variable(m, x[1:N, 1:M, 1:T], Bin)\n",
    "@variable(m, last)\n",
    "\n",
    "# due to the following two constraints, this just selects the time\n",
    "# when x[j, i, t] = 1, since x[j, :, :] has only one nonzero elemnt\n",
    "@expression(m, start_t[j=1:N], sum(x[j, i, t] * t for i=1:M for t=1:T))\n",
    "\n",
    "# at most one job per timestep per person\n",
    "@constraint(m, [t=1:T, i=1:M], sum(x[:, i, t]) <= 1)\n",
    "\n",
    "# each task is only worked on once\n",
    "@constraint(m, [j=1:N], sum(x[j, :, :]) == 1)\n",
    "\n",
    "# min { max_j end_t[j] }\n",
    "@constraint(m, [j=1:N], last >= start_t[j] + 1)\n",
    "\n",
    "@objective(m, Min, last)\n",
    "\n",
    "solve(m)"
   ]
  },
  {
   "cell_type": "code",
   "execution_count": null,
   "metadata": {},
   "outputs": [],
   "source": [
    "getvalue(last)"
   ]
  },
  {
   "cell_type": "code",
   "execution_count": null,
   "metadata": {},
   "outputs": [],
   "source": []
  }
 ],
 "metadata": {
  "kernelspec": {
   "display_name": "Julia 0.6.2",
   "language": "julia",
   "name": "julia-0.6"
  },
  "language_info": {
   "file_extension": ".jl",
   "mimetype": "application/julia",
   "name": "julia",
   "version": "0.6.2"
  }
 },
 "nbformat": 4,
 "nbformat_minor": 2
}

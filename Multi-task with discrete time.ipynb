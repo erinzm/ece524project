{
 "cells": [
  {
   "cell_type": "code",
   "execution_count": 2,
   "metadata": {},
   "outputs": [],
   "source": [
    "using JuMP, Cbc"
   ]
  },
  {
   "cell_type": "code",
   "execution_count": 98,
   "metadata": {},
   "outputs": [
    {
     "data": {
      "text/plain": [
       "7.0"
      ]
     },
     "execution_count": 98,
     "metadata": {},
     "output_type": "execute_result"
    }
   ],
   "source": [
    "N = [2 3 1]  #tasks\n",
    "W = hcat(ones(1), 3*ones(1), 2*ones(1)) # 1 worker who completes task 1 in 1 time, tasks 2 in three time, etc.\n",
    "T = convert(Int64,maximum(W)*sum(N)) #upper bound on project completion\n",
    "\n",
    "m = Model(solver=CbcSolver())\n",
    "\n",
    "n = maximum(N) #max number of tasks for a category\n",
    "v = size(N,2) # number of types of tasks\n",
    "w = size(W,1) #number of workers\n",
    "\n",
    "@variable(m, x[1:n, 1:v, 1:w, 1:T], Bin)\n",
    "\n",
    "@variable(m, last)\n",
    "\n",
    "# due to the following two constraints, this just selects the time\n",
    "# when x[j, i, t] = 1, since x[j, :, :] has only one nonzero elemnt\n",
    "#@expression(m, start_t[j=1:n], sum(x[j,:,:,:]))\n",
    "@expression(m, end_t[j=1:n, k=1:v, i=1:w], sum((x[j,k,i,t])*(t+W[i,k]) for t=1:T))\n",
    "\n",
    "# at most one job per timestep per person\n",
    "@constraint(m, [t=1:T, i=1:w], sum(x[:, :, i, t]) <= 1)\n",
    "\n",
    "# each task is only worked on once and all tasks are completed\n",
    "#@constraint(m, [j=1:n, i=1:v], sum(x[j, i, :, :]) <= 1)\n",
    "@constraint(m, [j=1:n, i=1:v], sum(x[j, i, :, :]) <= 1)\n",
    "@constraint(m, [i=1:v], sum(x[:,i,:,:]) == N[i])\n",
    "\n",
    "# min { max_j end_t[j] }\n",
    "@constraint(m, [j=1:n, k=1:v, i=1:w], last >= end_t[j,k,w])\n",
    "\n",
    "@objective(m, Min, last)\n",
    "\n",
    "solve(m)\n",
    "getobjectivevalue(m)"
   ]
  },
  {
   "cell_type": "code",
   "execution_count": 100,
   "metadata": {},
   "outputs": [],
   "source": [
    "#m\n",
    "#getvalue(x[:,1,1,:])\n",
    "#(getvalue(start_t))\n",
    "#x[1,1,:,:]\n",
    "#getvalue(end_t)\n",
    "\n"
   ]
  },
  {
   "cell_type": "code",
   "execution_count": 97,
   "metadata": {},
   "outputs": [
    {
     "data": {
      "text/plain": [
       "3×3×1 Array{Float64,3}:\n",
       "[:, :, 1] =\n",
       " 25.0  57.0  36.0\n",
       " 18.0  56.0  41.0\n",
       " 22.0  55.0  36.0"
      ]
     },
     "execution_count": 97,
     "metadata": {},
     "output_type": "execute_result"
    }
   ],
   "source": [
    "getvalue(end_t)\n",
    "#getvalue(x[:,:,1,5])"
   ]
  }
 ],
 "metadata": {
  "kernelspec": {
   "display_name": "Julia 0.6.2",
   "language": "julia",
   "name": "julia-0.6"
  },
  "language_info": {
   "file_extension": ".jl",
   "mimetype": "application/julia",
   "name": "julia",
   "version": "0.6.2"
  }
 },
 "nbformat": 4,
 "nbformat_minor": 2
}

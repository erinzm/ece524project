{
 "cells": [
  {
   "cell_type": "code",
   "execution_count": 3,
   "metadata": {},
   "outputs": [],
   "source": [
    "using JuMP, Cbc"
   ]
  },
  {
   "cell_type": "code",
   "execution_count": 4,
   "metadata": {},
   "outputs": [
    {
     "data": {
      "text/plain": [
       "1.0"
      ]
     },
     "execution_count": 4,
     "metadata": {},
     "output_type": "execute_result"
    }
   ],
   "source": [
    "N = [1 2]  #tasks\n",
    "W = hcat(ones(1), 2*ones(1)) # 10 works with speed 1 on first task and speed two on second task\n",
    "T = convert(Int64,minimum(W)*sum(N)) #upper bound on project completion\n",
    "\n",
    "m = Model(solver=CbcSolver())\n",
    "\n",
    "n = maximum(N) #max number of tasks for a category\n",
    "v = size(N,2) # number of types of tasks\n",
    "w = size(W,1) #number of workers\n",
    "\n",
    "@variable(m, x[1:n, 1:v, 1:w, 1:T], Bin)\n",
    "\n",
    "@variable(m, last)\n",
    "\n",
    "# due to the following two constraints, this just selects the time\n",
    "# when x[j, i, t] = 1, since x[j, :, :] has only one nonzero elemnt\n",
    "@expression(m, start_t[j=1:n], sum(x[j,:,:,:]))#sum(x[j, k, i, t]*t))# for i=1:w, for k=1:v, for t=1:T))\n",
    "\n",
    "# at most one job per timestep per person\n",
    "@constraint(m, [t=1:T, i=1:w, j=1:v], sum(x[:, j, i, t]) <= 1)\n",
    "\n",
    "# each task is only worked on once and all tasks are completed\n",
    "@constraint(m, [j=1:n, i=1:v], sum(x[j, i, :, :]) <= 1)\n",
    "@constraint(m, [i=1:v], sum(x[:,i,:,:]) == N[i])\n",
    "\n",
    "# min { max_j end_t[j] }\n",
    "@constraint(m, [j=1:n], last >= start_t[n])\n",
    "\n",
    "@objective(m, Min, last)\n",
    "\n",
    "solve(m)\n",
    "getobjectivevalue(m)"
   ]
  },
  {
   "cell_type": "code",
   "execution_count": null,
   "metadata": {},
   "outputs": [],
   "source": [
    "#m\n",
    "#getvalue(x[:,:,1,1])"
   ]
  }
 ],
 "metadata": {
  "kernelspec": {
   "display_name": "Julia 0.6.2",
   "language": "julia",
   "name": "julia-0.6"
  },
  "language_info": {
   "file_extension": ".jl",
   "mimetype": "application/julia",
   "name": "julia",
   "version": "0.6.2"
  }
 },
 "nbformat": 4,
 "nbformat_minor": 2
}

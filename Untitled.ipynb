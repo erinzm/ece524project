{
 "cells": [
  {
   "cell_type": "code",
   "execution_count": 15,
   "metadata": {},
   "outputs": [
    {
     "ename": "LoadError",
     "evalue": "\u001b[91mUndefVarError: layout not defined\u001b[39m",
     "output_type": "error",
     "traceback": [
      "\u001b[91mUndefVarError: layout not defined\u001b[39m",
      "",
      "Stacktrace:",
      " [1] \u001b[1minclude_string\u001b[22m\u001b[22m\u001b[1m(\u001b[22m\u001b[22m::String, ::String\u001b[1m)\u001b[22m\u001b[22m at \u001b[1m.\\loading.jl:522\u001b[22m\u001b[22m"
     ]
    }
   ],
   "source": [
    "using LightGraphs\n",
    "using NetworkLayout:SFDP\n",
    "\n",
    "g = WheelGraph(10)\n",
    "a = adjacency_matrix(g) # generates a sparse adjacency matrix\n",
    "network = layout(a,Point2f0,tol=0.1,C=1,K=1,iterations=10) # generate 2D layout\n",
    "\n",
    "\n",
    "g = WheelGraph(10)\n",
    "a = adjacency_matrix(g)\n",
    "tol = 0.1\n",
    "C = 0.2\n",
    "K = 1\n",
    "iterations = 100\n",
    "network = layout(a,locs,tol,C,K,iterations)\n",
    "state = start(network)\n",
    "while !done(network,state)\n",
    "  network, state = next(network,state)\n",
    "end\n",
    "return network.positions"
   ]
  },
  {
   "cell_type": "code",
   "execution_count": 14,
   "metadata": {},
   "outputs": [],
   "source": [
    "using LightGraphs\n",
    "using NetworkLayout:SFDP"
   ]
  },
  {
   "cell_type": "code",
   "execution_count": null,
   "metadata": {},
   "outputs": [],
   "source": []
  }
 ],
 "metadata": {
  "kernelspec": {
   "display_name": "Julia 0.6.2",
   "language": "julia",
   "name": "julia-0.6"
  },
  "language_info": {
   "file_extension": ".jl",
   "mimetype": "application/julia",
   "name": "julia",
   "version": "0.6.2"
  }
 },
 "nbformat": 4,
 "nbformat_minor": 2
}
